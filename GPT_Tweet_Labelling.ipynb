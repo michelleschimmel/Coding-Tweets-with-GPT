{
 "cells": [
  {
   "cell_type": "markdown",
   "id": "4d6b4df4",
   "metadata": {},
   "source": [
    "# Using GPT to classify Tweets from Biden & Trump"
   ]
  },
  {
   "cell_type": "markdown",
   "id": "6a866def",
   "metadata": {},
   "source": [
    "- This notebook showcases the main steps involved in using GPT-4.o to label Tweets by the Trump & Biden with the best-performing prompt, that frame the political out-group as immoral, and calculates final performance metrics compared to three human coders."
   ]
  },
  {
   "cell_type": "markdown",
   "id": "b43a00cf",
   "metadata": {},
   "source": [
    "# (1) Setup"
   ]
  },
  {
   "cell_type": "markdown",
   "id": "7f4f262f",
   "metadata": {},
   "source": [
    "### Import required packages"
   ]
  },
  {
   "cell_type": "code",
   "execution_count": 1,
   "id": "db62683c-e6eb-4423-aa44-7a001b9900fa",
   "metadata": {},
   "outputs": [],
   "source": [
    "#!pip install openai==0.28"
   ]
  },
  {
   "cell_type": "code",
   "execution_count": 2,
   "id": "63959dfd",
   "metadata": {},
   "outputs": [
    {
     "name": "stderr",
     "output_type": "stream",
     "text": [
      "[nltk_data] Downloading package punkt to\n",
      "[nltk_data]     /Users/michelleschimmel/nltk_data...\n",
      "[nltk_data]   Package punkt is already up-to-date!\n"
     ]
    }
   ],
   "source": [
    "import openai # ensure it's version 0.28\n",
    "import pandas as pd \n",
    "import numpy as np \n",
    "import tiktoken\n",
    "import nltk\n",
    "import nltk.data\n",
    "from nltk.tokenize import sent_tokenize, word_tokenize\n",
    "nltk.download('punkt')\n",
    "import simpledorff\n",
    "import openpyxl"
   ]
  },
  {
   "cell_type": "markdown",
   "id": "fabd45ec",
   "metadata": {},
   "source": [
    "### API Model Setup"
   ]
  },
  {
   "cell_type": "code",
   "execution_count": 4,
   "id": "7e78f3e3",
   "metadata": {},
   "outputs": [],
   "source": [
    "# set api key\n",
    "openai.api_key=api_key"
   ]
  },
  {
   "cell_type": "code",
   "execution_count": 5,
   "id": "4f418675",
   "metadata": {},
   "outputs": [],
   "source": [
    "# define which model to use \n",
    "MODEL = \"gpt-4o\"\n",
    "MAX_TOKENS = 8000\n",
    "WAIT_TIME = 0.8  \n",
    "TEMPERATURE = 0.2"
   ]
  },
  {
   "cell_type": "markdown",
   "id": "84a60cd6",
   "metadata": {},
   "source": [
    "### Required Functions"
   ]
  },
  {
   "cell_type": "code",
   "execution_count": 7,
   "id": "8b642192",
   "metadata": {},
   "outputs": [],
   "source": [
    "# Function based on Törnberg, 2023\n",
    "\n",
    "import time\n",
    "\n",
    "def analyze_message(text, instruction, model=\"gpt-4o\", temperature=0.2):\n",
    "    print(f\"Analyzing tweets: \")\n",
    "\n",
    "    response = None\n",
    "    tries = 0\n",
    "    failed = True\n",
    "\n",
    "    while failed:\n",
    "        try:\n",
    "            time.sleep(0.8)\n",
    "            response = openai.ChatCompletion.create(\n",
    "                model=model,\n",
    "                temperature=temperature,\n",
    "                messages=[\n",
    "                    {\"role\": \"system\", \"content\": f\"'{instruction}'\"},\n",
    "                    {\"role\": \"user\", \"content\": f\"'{text}'\"}\n",
    "                ]\n",
    "            )\n",
    "            failed = False\n",
    "\n",
    "        # Handle errors.\n",
    "        except openai.error.APIError as e:\n",
    "            print(f\"OpenAI API returned an API Error: {e}\")\n",
    "            if tries < 10:\n",
    "                print(f\"Caught an APIError: {e}. Waiting 10 seconds and then trying again...\")\n",
    "                failed = True\n",
    "                tries += 1\n",
    "                time.sleep(10)\n",
    "            else:\n",
    "                print(f\"Caught an APIError: {e}. Too many exceptions. Giving up.\")\n",
    "                raise e\n",
    "\n",
    "        except openai.error.ServiceUnavailableError as e:\n",
    "            print(f\"OpenAI API returned a ServiceUnavailable Error: {e}\")\n",
    "            if tries < 10:\n",
    "                print(f\"Caught a ServiceUnavailable error: {e}. Waiting 10 seconds and then trying again...\")\n",
    "                failed = True\n",
    "                tries += 1\n",
    "                time.sleep(10)\n",
    "            else:\n",
    "                print(f\"Caught a ServiceUnavailable error: {e}. Too many exceptions. Giving up.\")\n",
    "                raise e\n",
    "\n",
    "        except openai.error.APIConnectionError as e:\n",
    "            print(f\"Failed to connect to OpenAI API: {e}\")\n",
    "            pass\n",
    "\n",
    "        except openai.error.RateLimitError as e:\n",
    "            print(f\"OpenAI API request exceeded rate limit: {e}\")\n",
    "            pass\n",
    "\n",
    "        except openai.error.InvalidRequestError as e:\n",
    "            print(f\"Received an InvalidRequestError. Request likely too long; cutting 10% of the text and trying again. {e}\")\n",
    "            time.sleep(5)\n",
    "            words = text.split()\n",
    "            num_words_to_remove = round(len(words) * 0.1)\n",
    "            remaining_words = words[:-num_words_to_remove]\n",
    "            text = ' '.join(remaining_words)\n",
    "            failed = True\n",
    "\n",
    "        except Exception as e:\n",
    "            print(f\"Caught an unhandled error: {e}\")\n",
    "            pass\n",
    "\n",
    "    result = ''\n",
    "    for choice in response.choices:\n",
    "        result += choice.message.content\n",
    "        return result"
   ]
  },
  {
   "cell_type": "code",
   "execution_count": 8,
   "id": "dcfe641c",
   "metadata": {},
   "outputs": [],
   "source": [
    "# This function saves tokens in each prompt, as the GPT-instructions are included only once for each chunk of ~35 tweets, instead of \n",
    "# having the instruction included with every tweet.\n",
    "\n",
    "# Important: Ensure df index is an index from 0–n, otherwise the chunking doesn't work.\n",
    "     \n",
    "def gpt_input (df, text_column): \n",
    "    \n",
    "    # define maximum lines per chunk: \n",
    "    max_lines_per_chunk = 35\n",
    "    \n",
    "    # Add a new column, where the index of the dataframe is used to create chunks of ~35 tweets \n",
    "    # (and then whatever is left), such that the same number is assigned to 35 tweets each for each line\n",
    "    df[\"chunk_number\"] = df.index // max_lines_per_chunk \n",
    "    \n",
    "    # Group the dataframe by chunk number\n",
    "    grouped_df = df.groupby(\"chunk_number\")\n",
    "    \n",
    "    # Initialize a list to store the results for each chunk. This is the final list to process further\n",
    "    chunk_results = []\n",
    "    \n",
    "    # Iterate through the grouped dataframe and make api calls for each chunk \n",
    "    for chunk_number, chunk_df in grouped_df: \n",
    "        \n",
    "        # Create tweet number supplied to GPT so it understands that each tweet is supposed to be treated individually\n",
    "        numbered_tweets = []\n",
    "        \n",
    "        # Construct the prompt (i.e., string of tweets to be supplied) by joining the lines in the current chunk: \n",
    "        for index, tweet in enumerate(chunk_df[f\"{text_column}\"]):\n",
    "            numbered_tweet = f\"{index+1}:{tweet}\"\n",
    "            numbered_tweets.append(numbered_tweet)\n",
    "            \n",
    "        # Create the final prompt: \n",
    "        prompt = \"\\n\".join(numbered_tweets)\n",
    "\n",
    "        # Use the analyze_message function to get the result \n",
    "        result = analyze_message (prompt, instruction, model=MODEL)\n",
    "        \n",
    "        # Append the results to the list \n",
    "        chunk_results.append(result)\n",
    "        \n",
    "    return chunk_results"
   ]
  },
  {
   "cell_type": "code",
   "execution_count": 36,
   "id": "b432d937",
   "metadata": {},
   "outputs": [],
   "source": [
    "# Function to parse the json output from GPT (including error handling).\n",
    "import re\n",
    "import json\n",
    "import pandas as pd\n",
    "\n",
    "def parse_json(gpt_output_list):\n",
    "    cleaned_data = []\n",
    "    \n",
    "    # Clean GPT output, removing unwanted leading & trailing line breaks & characters\n",
    "    for item in gpt_output_list:\n",
    "        cleaned_item = re.sub(r'```json|\\n|```', '', item).strip()\n",
    "        cleaned_data.append(cleaned_item)\n",
    "\n",
    "    # Join into one string for further output error handling\n",
    "    concatenated_data = ''.join(cleaned_data)\n",
    "\n",
    "    # Handle cases where GPT places either nothing between JSON objects (like so: }{), or random punctuation to ensure it only splits by newline\n",
    "    fixed_data = re.sub(r'}\\s*([.,;!?\\s]*)\\s*{', '}\\n{', concatenated_data)\n",
    "    \n",
    "    # Split into individual JSON objects\n",
    "    json_blocks = fixed_data.splitlines()\n",
    "\n",
    "    json_objects = []\n",
    "    \n",
    "    # Parse each block as JSON\n",
    "    for block in json_blocks:\n",
    "        try:\n",
    "            json_objects.append(json.loads(block))\n",
    "            \n",
    "        # Print errors & examine block\n",
    "        except json.JSONDecodeError as e:\n",
    "            print(f\"Error decoding JSON block: {block[:100]}...: {e}\")\n",
    "            print(block)\n",
    "            continue\n",
    "\n",
    "    # Flatten the list of dicts (if necessary)\n",
    "    flattened_data = []\n",
    "    \n",
    "    for obj in json_objects:\n",
    "        if isinstance(obj, list):  # Handle lists of dictionaries\n",
    "            flattened_data.extend(obj)\n",
    "            \n",
    "        else:  # Handle single dictionaries\n",
    "            flattened_data.append(obj)\n",
    "\n",
    "    # Create a DataFrame from the flattened data\n",
    "    tweet_df = pd.DataFrame(flattened_data)\n",
    "    \n",
    "    return tweet_df"
   ]
  },
  {
   "cell_type": "code",
   "execution_count": 14,
   "id": "6be0dc12",
   "metadata": {},
   "outputs": [],
   "source": [
    "# old function -- this is not really needed anymore beyond initial stage as we now have several coders, maybe automate later \n",
    "def validate_scale (human_coded_data, gpt_coded_data, unique_tweet_id, target_variable): \n",
    "    \n",
    "    import simpledorff\n",
    "    \n",
    "    # add coder variables: \n",
    "    human_coded_data[\"codernum\"]=\"human\"\n",
    "    gpt_coded_data[\"codernum\"]=\"llm\"\n",
    "    \n",
    "    # ensure all outputs are in numeric format\n",
    "    human_coded_data[f\"{target_variable}\"] = pd.to_numeric(human_coded_data[f\"{target_variable}\"], errors='coerce')\n",
    "    gpt_coded_data[f\"{target_variable}\"] = pd.to_numeric(gpt_coded_data[f\"{target_variable}\"], errors='coerce')\n",
    "    \n",
    "    # select only columns that are required: id, codernum, target variable\n",
    "    selected_columns = [f\"{unique_tweet_id}\", \"codernum\", f\"{target_variable}\"]\n",
    "    human_coded_data_s = human_coded_data[selected_columns]\n",
    "    gpt_coded_data_s = gpt_coded_data[selected_columns]\n",
    "                        \n",
    "    # create validation dataset \n",
    "    validation_data = pd.concat([human_coded_data_s,gpt_coded_data_s])\n",
    "                        \n",
    "    # calculate krippendorff's alpha \n",
    "    KA = simpledorff.calculate_krippendorffs_alpha_for_df(\n",
    "    validation_data\n",
    "    ,metric_fn=simpledorff.metrics.interval_metric,\n",
    "    experiment_col='id', \n",
    "    annotator_col='codernum', \n",
    "    class_col=f'{target_variable}')\n",
    "\n",
    "    print(f\"The resulting Krippendorf's Alpha is is {KA}.\")                    "
   ]
  },
  {
   "cell_type": "code",
   "execution_count": 16,
   "id": "ba72ac0d",
   "metadata": {},
   "outputs": [],
   "source": [
    "# old function -- this is not really needed anymore beyond initial stage as we now have several coders, maybe automate later \n",
    "\n",
    "def check_disagreements (human_coded_data, gpt_coded_data, unique_tweet_id, target_variable, filename):\n",
    "    \n",
    "    # merge human and gpt coded data on id and text to get the differing target variables \n",
    "    wrong = human_coded_data.merge(gpt_coded_data, on=[f'{unique_tweet_id}', 'text'])\n",
    "    \n",
    "    # take absolute difference between target variables to calculate disagreement\n",
    "    wrong['diff'] = abs(wrong[f'{target_variable}_x']-wrong[f'{target_variable}_y'])\n",
    "    \n",
    "    # select columns to make further inspection easier and save to df\n",
    "    column_selection=[f'{unique_tweet_id}', 'text', f'{target_variable}_x', f'{target_variable}_y', 'motivation', 'diff']\n",
    "    wrong_df=wrong[column_selection] \n",
    "    \n",
    "    # save as .csv to examine \n",
    "    wrong_df.to_csv(f'{filename}.csv')\n",
    "    \n",
    "    # return in code\n",
    "    return wrong_df.sort_values(by = 'diff', ascending=False)"
   ]
  },
  {
   "cell_type": "markdown",
   "id": "6bf073c7",
   "metadata": {},
   "source": [
    "# (2) Trump Tweets"
   ]
  },
  {
   "cell_type": "markdown",
   "id": "781b84ec",
   "metadata": {},
   "source": [
    "## Data preparation"
   ]
  },
  {
   "cell_type": "code",
   "execution_count": 17,
   "id": "dd0e997b",
   "metadata": {},
   "outputs": [],
   "source": [
    "# Load dataset\n",
    "trump = pd.read_excel(\"trump_2020_coding_ECM.xlsx\")"
   ]
  },
  {
   "cell_type": "code",
   "execution_count": 19,
   "id": "d3bcb125",
   "metadata": {},
   "outputs": [],
   "source": [
    "# cut off where we stopped coding\n",
    "trump_df = trump[:124]"
   ]
  },
  {
   "cell_type": "code",
   "execution_count": 21,
   "id": "c3fbba55",
   "metadata": {},
   "outputs": [
    {
     "name": "stderr",
     "output_type": "stream",
     "text": [
      "/var/folders/2w/bw2mbvzn6ns_37v4dn94xthm0000gn/T/ipykernel_5857/3345385633.py:11: SettingWithCopyWarning: \n",
      "A value is trying to be set on a copy of a slice from a DataFrame.\n",
      "Try using .loc[row_indexer,col_indexer] = value instead\n",
      "\n",
      "See the caveats in the documentation: https://pandas.pydata.org/pandas-docs/stable/user_guide/indexing.html#returning-a-view-versus-a-copy\n",
      "  trump_df[\"id_text\"] = \"tweet_ID \" + trump_df[\"TEXT_ID\"].astype(str) + \": \" + trump_df[\"text\"].astype(str)\n"
     ]
    }
   ],
   "source": [
    "# Join tweet ID & tweet content to provide to GPT\n",
    "trump_df[\"id_text\"] = \"tweet_ID \" + trump_df[\"TEXT_ID\"].astype(str) + \": \" + trump_df[\"text\"].astype(str)\n",
    "\n",
    "# use column with both id and text for gpt input\n",
    "trump_txt = trump_df[[\"id_text\"]].copy()"
   ]
  },
  {
   "cell_type": "code",
   "execution_count": 22,
   "id": "66ec77da",
   "metadata": {},
   "outputs": [
    {
     "data": {
      "text/html": [
       "<div>\n",
       "<style scoped>\n",
       "    .dataframe tbody tr th:only-of-type {\n",
       "        vertical-align: middle;\n",
       "    }\n",
       "\n",
       "    .dataframe tbody tr th {\n",
       "        vertical-align: top;\n",
       "    }\n",
       "\n",
       "    .dataframe thead th {\n",
       "        text-align: right;\n",
       "    }\n",
       "</style>\n",
       "<table border=\"1\" class=\"dataframe\">\n",
       "  <thead>\n",
       "    <tr style=\"text-align: right;\">\n",
       "      <th></th>\n",
       "      <th>TEXT_ID</th>\n",
       "      <th>id</th>\n",
       "      <th>text</th>\n",
       "      <th>V1_BOUNDARY_DRAWING_E</th>\n",
       "      <th>V2_DEROGATION_OUTGROUP_E</th>\n",
       "      <th>V3_MORAL_WRONG_OUTGROUP_E</th>\n",
       "      <th>V4_SENTIMENT_E</th>\n",
       "      <th>V1_BOUNDARY_DRAWING_C</th>\n",
       "      <th>V2_DEROGATION_OUTGROUP_C</th>\n",
       "      <th>V3_MORAL_WRONG_OUTGROUP_C</th>\n",
       "      <th>V4_SENTIMENT_C</th>\n",
       "      <th>V1_BOUNDARY_DRAWING_M</th>\n",
       "      <th>V2_DEROGATION_OUTGROUP_M</th>\n",
       "      <th>V3_MORAL_WRONG_OUTGROUP_M</th>\n",
       "      <th>id_text</th>\n",
       "    </tr>\n",
       "  </thead>\n",
       "  <tbody>\n",
       "    <tr>\n",
       "      <th>0</th>\n",
       "      <td>1877</td>\n",
       "      <td>1260000000000000000</td>\n",
       "      <td>State of Nevada â€œthinksâ€ that they can sen...</td>\n",
       "      <td>0.0</td>\n",
       "      <td>0.0</td>\n",
       "      <td>1.0</td>\n",
       "      <td>0.0</td>\n",
       "      <td>0.0</td>\n",
       "      <td>0.0</td>\n",
       "      <td>1.0</td>\n",
       "      <td>2.0</td>\n",
       "      <td>0.0</td>\n",
       "      <td>0.0</td>\n",
       "      <td>1.0</td>\n",
       "      <td>tweet_ID 1877: State of Nevada â€œthinksâ€ th...</td>\n",
       "    </tr>\n",
       "    <tr>\n",
       "      <th>1</th>\n",
       "      <td>5098</td>\n",
       "      <td>1290000000000000000</td>\n",
       "      <td>Must know Election results on the night of the...</td>\n",
       "      <td>0.0</td>\n",
       "      <td>0.0</td>\n",
       "      <td>0.0</td>\n",
       "      <td>0.0</td>\n",
       "      <td>0.0</td>\n",
       "      <td>0.0</td>\n",
       "      <td>0.0</td>\n",
       "      <td>0.0</td>\n",
       "      <td>0.0</td>\n",
       "      <td>0.0</td>\n",
       "      <td>0.0</td>\n",
       "      <td>tweet_ID 5098: Must know Election results on t...</td>\n",
       "    </tr>\n",
       "  </tbody>\n",
       "</table>\n",
       "</div>"
      ],
      "text/plain": [
       "   TEXT_ID                   id  \\\n",
       "0     1877  1260000000000000000   \n",
       "1     5098  1290000000000000000   \n",
       "\n",
       "                                                text  V1_BOUNDARY_DRAWING_E  \\\n",
       "0  State of Nevada â€œthinksâ€ that they can sen...                    0.0   \n",
       "1  Must know Election results on the night of the...                    0.0   \n",
       "\n",
       "   V2_DEROGATION_OUTGROUP_E  V3_MORAL_WRONG_OUTGROUP_E  V4_SENTIMENT_E  \\\n",
       "0                       0.0                        1.0             0.0   \n",
       "1                       0.0                        0.0             0.0   \n",
       "\n",
       "   V1_BOUNDARY_DRAWING_C  V2_DEROGATION_OUTGROUP_C  V3_MORAL_WRONG_OUTGROUP_C  \\\n",
       "0                    0.0                       0.0                        1.0   \n",
       "1                    0.0                       0.0                        0.0   \n",
       "\n",
       "   V4_SENTIMENT_C  V1_BOUNDARY_DRAWING_M  V2_DEROGATION_OUTGROUP_M  \\\n",
       "0             2.0                    0.0                       0.0   \n",
       "1             0.0                    0.0                       0.0   \n",
       "\n",
       "   V3_MORAL_WRONG_OUTGROUP_M  \\\n",
       "0                        1.0   \n",
       "1                        0.0   \n",
       "\n",
       "                                             id_text  \n",
       "0  tweet_ID 1877: State of Nevada â€œthinksâ€ th...  \n",
       "1  tweet_ID 5098: Must know Election results on t...  "
      ]
     },
     "execution_count": 22,
     "metadata": {},
     "output_type": "execute_result"
    }
   ],
   "source": [
    "trump_df.head(2)"
   ]
  },
  {
   "cell_type": "markdown",
   "id": "c0e6d9f9",
   "metadata": {},
   "source": [
    "## Final Prompt: Outgroup framed as morally wrong"
   ]
  },
  {
   "cell_type": "markdown",
   "id": "212bdf87",
   "metadata": {},
   "source": [
    "Variable: V3_MORAL_WRONG_OUTGROUP"
   ]
  },
  {
   "cell_type": "code",
   "execution_count": 32,
   "id": "6f1d059b-4f87-4506-a450-8fb7c06ef4db",
   "metadata": {},
   "outputs": [],
   "source": [
    "instruction = \"\"\"The following tweets are written by the leader of the Republican party in the United States. \n",
    "For each tweet, please evaluate whether it presents another political party, another party's leadership, or another party's voters and supporters as immoral.\n",
    "It is crucial that you do NOT evaluate portrayals of media outlets or channels, other countries or their leadership, or portrayals of the tweet authors' own party.\n",
    "\n",
    "The following three aspects must be present together in a tweet:\n",
    "(1) A clear reference to the political out-group\n",
    "(2) Calling attention to one of the following moral vices in the out-group's actions or character. The dimensions do not have to be explicitly mentioned but serve as a guide to understand the different kinds of moral vices associated with different accusations.\n",
    "- harming others (both directly or indirectly, e.g., by failing to help or taking away their rights)\n",
    "- cheating on or exploiting other people\n",
    "- betraying or abandoning one’s in-group\n",
    "- disrespecting authority or tradition\n",
    "- damaging or contaminating the purity of sacred entities.\n",
    "(3) Attributing intentionality to the out-group’s vices. For example, the political out-group must be portrayed as intentionally harming others. Unintentional harm, for example, poor decision making, would not be sufficient to code this concept as present in the tweet.\n",
    "\n",
    "It is crucial that regular political criticism of the out-party is not included if there is no clear judgment as immoral, such as \n",
    "- Criticising the out-party's policy positions or decisions \n",
    "- Expressing a desire to change the leadership (e.g., by voting them out)\n",
    "\n",
    "Provide your response in JSON format, as follows:\n",
    "{\"tweet_id\":\"146\", \"immoral_outgroup\": \"1/0\", \"justification\": \"Provide a brief justification\n",
    "for your choice.\"} \n",
    "\"0\" represents “no portrayal as immoral” \n",
    "\"1\" represents “portrayal as immoral”.\n",
    "\n",
    "Example: \n",
    "Tweet: “tweet_ID 153: Time and time again, that party shows that they don’t care about treating their political opponents in a fair way – they think this is the only way they can win.”\n",
    "Response: \"tweet_id\":\"153\", \"immoral_outgroup\":\"1\", \"justification\": \"this tweet portrays the tweet author's political out-group as immoral because they are being unfair and ready to cheat or exploit others to win.\" \n",
    "\n",
    "Ensure NOT to skip any tweets and to seperate all JSON objects using \\n.\n",
    "\"\"\""
   ]
  },
  {
   "cell_type": "code",
   "execution_count": 33,
   "id": "01ab8bbe",
   "metadata": {},
   "outputs": [
    {
     "name": "stdout",
     "output_type": "stream",
     "text": [
      "Analyzing tweets: \n",
      "Analyzing tweets: \n",
      "Analyzing tweets: \n",
      "Analyzing tweets: \n"
     ]
    }
   ],
   "source": [
    "# send requests to API with correct input \n",
    "trump_immoral_results2 = gpt_input(trump_txt, \"id_text\")"
   ]
  },
  {
   "cell_type": "code",
   "execution_count": 37,
   "id": "9336d1b3",
   "metadata": {},
   "outputs": [],
   "source": [
    "# Parse GPT output\n",
    "gpt_label_immoral2 = parse_json(trump_immoral_results2)"
   ]
  },
  {
   "cell_type": "code",
   "execution_count": 38,
   "id": "a44ca0ba",
   "metadata": {},
   "outputs": [
    {
     "data": {
      "text/html": [
       "<div>\n",
       "<style scoped>\n",
       "    .dataframe tbody tr th:only-of-type {\n",
       "        vertical-align: middle;\n",
       "    }\n",
       "\n",
       "    .dataframe tbody tr th {\n",
       "        vertical-align: top;\n",
       "    }\n",
       "\n",
       "    .dataframe thead th {\n",
       "        text-align: right;\n",
       "    }\n",
       "</style>\n",
       "<table border=\"1\" class=\"dataframe\">\n",
       "  <thead>\n",
       "    <tr style=\"text-align: right;\">\n",
       "      <th></th>\n",
       "      <th>tweet_id</th>\n",
       "      <th>immoral_outgroup</th>\n",
       "      <th>justification</th>\n",
       "    </tr>\n",
       "  </thead>\n",
       "  <tbody>\n",
       "    <tr>\n",
       "      <th>0</th>\n",
       "      <td>1877</td>\n",
       "      <td>1</td>\n",
       "      <td>The tweet accuses the state of Nevada of inten...</td>\n",
       "    </tr>\n",
       "    <tr>\n",
       "      <th>1</th>\n",
       "      <td>5098</td>\n",
       "      <td>0</td>\n",
       "      <td>The tweet expresses a desire for timely electi...</td>\n",
       "    </tr>\n",
       "    <tr>\n",
       "      <th>2</th>\n",
       "      <td>3912</td>\n",
       "      <td>0</td>\n",
       "      <td>The tweet does not reference another political...</td>\n",
       "    </tr>\n",
       "    <tr>\n",
       "      <th>3</th>\n",
       "      <td>1182</td>\n",
       "      <td>0</td>\n",
       "      <td>The tweet criticizes a bill and calls for acti...</td>\n",
       "    </tr>\n",
       "    <tr>\n",
       "      <th>4</th>\n",
       "      <td>3068</td>\n",
       "      <td>0</td>\n",
       "      <td>The tweet criticizes an individual and suggest...</td>\n",
       "    </tr>\n",
       "    <tr>\n",
       "      <th>...</th>\n",
       "      <td>...</td>\n",
       "      <td>...</td>\n",
       "      <td>...</td>\n",
       "    </tr>\n",
       "    <tr>\n",
       "      <th>119</th>\n",
       "      <td>2190</td>\n",
       "      <td>0</td>\n",
       "      <td>The tweet is a simple announcement and does no...</td>\n",
       "    </tr>\n",
       "    <tr>\n",
       "      <th>120</th>\n",
       "      <td>2244</td>\n",
       "      <td>0</td>\n",
       "      <td>The tweet discusses economic progress and does...</td>\n",
       "    </tr>\n",
       "    <tr>\n",
       "      <th>121</th>\n",
       "      <td>3377</td>\n",
       "      <td>0</td>\n",
       "      <td>The tweet criticizes the mayor of Portland but...</td>\n",
       "    </tr>\n",
       "    <tr>\n",
       "      <th>122</th>\n",
       "      <td>2211</td>\n",
       "      <td>0</td>\n",
       "      <td>The tweet is vague and does not reference any ...</td>\n",
       "    </tr>\n",
       "    <tr>\n",
       "      <th>123</th>\n",
       "      <td>1291</td>\n",
       "      <td>0</td>\n",
       "      <td>The tweet discusses vaccine distribution and d...</td>\n",
       "    </tr>\n",
       "  </tbody>\n",
       "</table>\n",
       "<p>124 rows × 3 columns</p>\n",
       "</div>"
      ],
      "text/plain": [
       "    tweet_id immoral_outgroup  \\\n",
       "0       1877                1   \n",
       "1       5098                0   \n",
       "2       3912                0   \n",
       "3       1182                0   \n",
       "4       3068                0   \n",
       "..       ...              ...   \n",
       "119     2190                0   \n",
       "120     2244                0   \n",
       "121     3377                0   \n",
       "122     2211                0   \n",
       "123     1291                0   \n",
       "\n",
       "                                         justification  \n",
       "0    The tweet accuses the state of Nevada of inten...  \n",
       "1    The tweet expresses a desire for timely electi...  \n",
       "2    The tweet does not reference another political...  \n",
       "3    The tweet criticizes a bill and calls for acti...  \n",
       "4    The tweet criticizes an individual and suggest...  \n",
       "..                                                 ...  \n",
       "119  The tweet is a simple announcement and does no...  \n",
       "120  The tweet discusses economic progress and does...  \n",
       "121  The tweet criticizes the mayor of Portland but...  \n",
       "122  The tweet is vague and does not reference any ...  \n",
       "123  The tweet discusses vaccine distribution and d...  \n",
       "\n",
       "[124 rows x 3 columns]"
      ]
     },
     "execution_count": 38,
     "metadata": {},
     "output_type": "execute_result"
    }
   ],
   "source": [
    "# Examine\n",
    "gpt_label_immoral2"
   ]
  },
  {
   "cell_type": "code",
   "execution_count": 39,
   "id": "a9488f08",
   "metadata": {},
   "outputs": [],
   "source": [
    "# Rename columns to match with gpt output\n",
    "trump_df = trump_df.rename(columns = {\"TEXT_ID\":\"tweet_id\"})\n",
    "\n",
    "# Ensure column format on each sides is string\n",
    "trump_df['tweet_id'] = trump_df['tweet_id'].astype(str)\n",
    "gpt_label_immoral2['tweet_id'] = gpt_label_immoral2['tweet_id'].astype(str)\n",
    "\n",
    "# Merge dfs on tweet id\n",
    "immoral_df_t2 = trump_df.merge(gpt_label_immoral2, on = \"tweet_id\")"
   ]
  },
  {
   "cell_type": "code",
   "execution_count": 42,
   "id": "b1e2d978",
   "metadata": {},
   "outputs": [
    {
     "data": {
      "text/html": [
       "<div>\n",
       "<style scoped>\n",
       "    .dataframe tbody tr th:only-of-type {\n",
       "        vertical-align: middle;\n",
       "    }\n",
       "\n",
       "    .dataframe tbody tr th {\n",
       "        vertical-align: top;\n",
       "    }\n",
       "\n",
       "    .dataframe thead th {\n",
       "        text-align: right;\n",
       "    }\n",
       "</style>\n",
       "<table border=\"1\" class=\"dataframe\">\n",
       "  <thead>\n",
       "    <tr style=\"text-align: right;\">\n",
       "      <th></th>\n",
       "      <th>tweet_id</th>\n",
       "      <th>id</th>\n",
       "      <th>text</th>\n",
       "      <th>V1_BOUNDARY_DRAWING_E</th>\n",
       "      <th>V2_DEROGATION_OUTGROUP_E</th>\n",
       "      <th>V3_MORAL_WRONG_OUTGROUP_E</th>\n",
       "      <th>V4_SENTIMENT_E</th>\n",
       "      <th>V1_BOUNDARY_DRAWING_C</th>\n",
       "      <th>V2_DEROGATION_OUTGROUP_C</th>\n",
       "      <th>V3_MORAL_WRONG_OUTGROUP_C</th>\n",
       "      <th>V4_SENTIMENT_C</th>\n",
       "      <th>V1_BOUNDARY_DRAWING_M</th>\n",
       "      <th>V2_DEROGATION_OUTGROUP_M</th>\n",
       "      <th>V3_MORAL_WRONG_OUTGROUP_M</th>\n",
       "      <th>id_text</th>\n",
       "      <th>immoral_outgroup</th>\n",
       "      <th>justification</th>\n",
       "    </tr>\n",
       "  </thead>\n",
       "  <tbody>\n",
       "    <tr>\n",
       "      <th>0</th>\n",
       "      <td>1877</td>\n",
       "      <td>1260000000000000000</td>\n",
       "      <td>State of Nevada â€œthinksâ€ that they can sen...</td>\n",
       "      <td>0.0</td>\n",
       "      <td>0.0</td>\n",
       "      <td>1.0</td>\n",
       "      <td>0.0</td>\n",
       "      <td>0.0</td>\n",
       "      <td>0.0</td>\n",
       "      <td>1.0</td>\n",
       "      <td>2.0</td>\n",
       "      <td>0.0</td>\n",
       "      <td>0.0</td>\n",
       "      <td>1.0</td>\n",
       "      <td>tweet_ID 1877: State of Nevada â€œthinksâ€ th...</td>\n",
       "      <td>1</td>\n",
       "      <td>The tweet accuses the state of Nevada of inten...</td>\n",
       "    </tr>\n",
       "    <tr>\n",
       "      <th>1</th>\n",
       "      <td>5098</td>\n",
       "      <td>1290000000000000000</td>\n",
       "      <td>Must know Election results on the night of the...</td>\n",
       "      <td>0.0</td>\n",
       "      <td>0.0</td>\n",
       "      <td>0.0</td>\n",
       "      <td>0.0</td>\n",
       "      <td>0.0</td>\n",
       "      <td>0.0</td>\n",
       "      <td>0.0</td>\n",
       "      <td>0.0</td>\n",
       "      <td>0.0</td>\n",
       "      <td>0.0</td>\n",
       "      <td>0.0</td>\n",
       "      <td>tweet_ID 5098: Must know Election results on t...</td>\n",
       "      <td>0</td>\n",
       "      <td>The tweet expresses a desire for timely electi...</td>\n",
       "    </tr>\n",
       "  </tbody>\n",
       "</table>\n",
       "</div>"
      ],
      "text/plain": [
       "  tweet_id                   id  \\\n",
       "0     1877  1260000000000000000   \n",
       "1     5098  1290000000000000000   \n",
       "\n",
       "                                                text  V1_BOUNDARY_DRAWING_E  \\\n",
       "0  State of Nevada â€œthinksâ€ that they can sen...                    0.0   \n",
       "1  Must know Election results on the night of the...                    0.0   \n",
       "\n",
       "   V2_DEROGATION_OUTGROUP_E  V3_MORAL_WRONG_OUTGROUP_E  V4_SENTIMENT_E  \\\n",
       "0                       0.0                        1.0             0.0   \n",
       "1                       0.0                        0.0             0.0   \n",
       "\n",
       "   V1_BOUNDARY_DRAWING_C  V2_DEROGATION_OUTGROUP_C  V3_MORAL_WRONG_OUTGROUP_C  \\\n",
       "0                    0.0                       0.0                        1.0   \n",
       "1                    0.0                       0.0                        0.0   \n",
       "\n",
       "   V4_SENTIMENT_C  V1_BOUNDARY_DRAWING_M  V2_DEROGATION_OUTGROUP_M  \\\n",
       "0             2.0                    0.0                       0.0   \n",
       "1             0.0                    0.0                       0.0   \n",
       "\n",
       "   V3_MORAL_WRONG_OUTGROUP_M  \\\n",
       "0                        1.0   \n",
       "1                        0.0   \n",
       "\n",
       "                                             id_text immoral_outgroup  \\\n",
       "0  tweet_ID 1877: State of Nevada â€œthinksâ€ th...                1   \n",
       "1  tweet_ID 5098: Must know Election results on t...                0   \n",
       "\n",
       "                                       justification  \n",
       "0  The tweet accuses the state of Nevada of inten...  \n",
       "1  The tweet expresses a desire for timely electi...  "
      ]
     },
     "execution_count": 42,
     "metadata": {},
     "output_type": "execute_result"
    }
   ],
   "source": [
    "immoral_df_t2.head(2)"
   ]
  },
  {
   "cell_type": "code",
   "execution_count": 43,
   "id": "44ec4f28",
   "metadata": {},
   "outputs": [],
   "source": [
    "# rename immoral_outgroup to variable name for consistency\n",
    "immoral_df_t2 = immoral_df_t2.rename(columns={\"immoral_outgroup\":\"V3_MORAL_WRONG_OUTGROUP_GPT\"})"
   ]
  },
  {
   "cell_type": "code",
   "execution_count": 44,
   "id": "1b98e384",
   "metadata": {},
   "outputs": [],
   "source": [
    "# save as .csv \n",
    "immoral_df_t2.to_csv(\"immoral_trump_gpt2.csv\")"
   ]
  },
  {
   "cell_type": "markdown",
   "id": "8108c1d5",
   "metadata": {},
   "source": [
    "### Calculate Performance"
   ]
  },
  {
   "cell_type": "code",
   "execution_count": 45,
   "id": "eab0dbfd",
   "metadata": {},
   "outputs": [],
   "source": [
    "# select variables, GPT is treated here as an additional coder\n",
    "immoral_outgroup_kripp2 = immoral_df_t2[[\"tweet_id\",\"V3_MORAL_WRONG_OUTGROUP_E\", \"V3_MORAL_WRONG_OUTGROUP_C\", \"V3_MORAL_WRONG_OUTGROUP_M\", \"V3_MORAL_WRONG_OUTGROUP_GPT\"]]"
   ]
  },
  {
   "cell_type": "code",
   "execution_count": 53,
   "id": "82e8e3a5",
   "metadata": {},
   "outputs": [
    {
     "name": "stderr",
     "output_type": "stream",
     "text": [
      "/var/folders/2w/bw2mbvzn6ns_37v4dn94xthm0000gn/T/ipykernel_5857/2778934497.py:2: SettingWithCopyWarning: \n",
      "A value is trying to be set on a copy of a slice from a DataFrame.\n",
      "Try using .loc[row_indexer,col_indexer] = value instead\n",
      "\n",
      "See the caveats in the documentation: https://pandas.pydata.org/pandas-docs/stable/user_guide/indexing.html#returning-a-view-versus-a-copy\n",
      "  immoral_outgroup_kripp2['V3_MORAL_WRONG_OUTGROUP_GPT'] = pd.to_numeric(immoral_outgroup_kripp2['V3_MORAL_WRONG_OUTGROUP_GPT'], errors='raise')\n"
     ]
    }
   ],
   "source": [
    "# ensure gpt dtype is numeric\n",
    "immoral_outgroup_kripp2['V3_MORAL_WRONG_OUTGROUP_GPT'] = pd.to_numeric(immoral_outgroup_kripp2['V3_MORAL_WRONG_OUTGROUP_GPT'], errors='raise')"
   ]
  },
  {
   "cell_type": "code",
   "execution_count": 55,
   "id": "455290d0",
   "metadata": {},
   "outputs": [
    {
     "data": {
      "text/plain": [
       "0.7541319209676208"
      ]
     },
     "execution_count": 55,
     "metadata": {},
     "output_type": "execute_result"
    }
   ],
   "source": [
    "# Calculate krippendorff's alpha\n",
    "\n",
    "# Bring df in long format with coder ID column \n",
    "immoral_long2 = pd.melt(immoral_outgroup_kripp2,\n",
    "    id_vars=[\"tweet_id\"], \n",
    "                 var_name=\"CODER_ID\", \n",
    "                 value_name=\"MORAL_WRONG\")\n",
    "\n",
    "# Calculate KAlpha\n",
    "simpledorff.calculate_krippendorffs_alpha_for_df(\n",
    "    immoral_long2,experiment_col='tweet_id',\n",
    "    annotator_col='CODER_ID',\n",
    "    class_col='MORAL_WRONG')"
   ]
  },
  {
   "cell_type": "markdown",
   "id": "d79ac4af",
   "metadata": {},
   "source": [
    "# (3) Biden Tweets"
   ]
  },
  {
   "cell_type": "code",
   "execution_count": 56,
   "id": "20ef82d3",
   "metadata": {},
   "outputs": [],
   "source": [
    "biden_df = pd.read_excel(\"biden_2020_coding_E_C_M.xlsx\")"
   ]
  },
  {
   "cell_type": "code",
   "execution_count": 57,
   "id": "e5ca1399",
   "metadata": {},
   "outputs": [],
   "source": [
    "# rename to tweet id & change to string to later do merging with GPT labels\n",
    "biden_df = biden_df.rename(columns = {\"TEXT_ID\":\"tweet_id\"}).astype(str)\n",
    "\n",
    "# create column with tweet ID and text \n",
    "biden_df[\"id_text\"] = \"tweet_ID \" + biden_df[\"tweet_id\"].astype(str) + \": \" + biden_df[\"text\"].astype(str)\n",
    "\n",
    "# use column with both id and text\n",
    "biden_txt = biden_df[[\"id_text\"]].copy()"
   ]
  },
  {
   "cell_type": "code",
   "execution_count": 61,
   "id": "b272485c",
   "metadata": {},
   "outputs": [],
   "source": [
    "# Remove missing data \n",
    "\n",
    "# Replace faulty human coder artefact inside df that says \"nan\" with actual NaN (np.nan)\n",
    "coder_labels = [\"V1_BOUNDARY_DRAWING_E\", \"V2_DEROGATION_OUTGROUP_E\", \n",
    "                \"V3_MORAL_WRONG_OUTGROUP_E\", \"V4_SENTIMENT_E\", \n",
    "                \"V1_BOUNDARY_DRAWING_C\", \"V2_DEROGATION_OUTGROUP_C\", \n",
    "                \"V3_MORAL_WRONG_OUTGROUP_C\", \"V4_SENTIMENT_C\", \n",
    "                \"V1_BOUNDARY_DRAWING_M\", \"V2_DEROGATION_OUTGROUP_M\", \"V3_MORAL_WRONG_OUTGROUP_M\"]\n",
    "\n",
    "biden_df[coder_labels] = biden_df[coder_labels].replace(\"nan\", pd.NA)\n",
    "\n",
    "# drop all nans \n",
    "biden_df = biden_df.dropna(subset=coder_labels)\n",
    "\n",
    "# Check if any na's left\n",
    "biden_df.isna().any()"
   ]
  },
  {
   "cell_type": "code",
   "execution_count": 65,
   "id": "369ef3ef",
   "metadata": {},
   "outputs": [],
   "source": [
    "# Ensure GPT datatype is numeric\n",
    "biden_df[coder_labels] = biden_df[coder_labels].apply(pd.to_numeric, errors = \"raise\")"
   ]
  },
  {
   "cell_type": "markdown",
   "id": "59fe3d27",
   "metadata": {},
   "source": [
    "## Final Prompt: Outgroup framed as morally wrong "
   ]
  },
  {
   "cell_type": "code",
   "execution_count": 78,
   "id": "123a2615",
   "metadata": {},
   "outputs": [],
   "source": [
    "# this is the same instruction as Trump's except replaced with \"Democratic party\"\n",
    "\n",
    "instruction = \"\"\"The following tweets are written by the leader of the Democratic party in the United States. \n",
    "For each tweet, please evaluate whether it presents another political party, another party's leadership, or another party's voters and supporters as immoral.\n",
    "It is crucial that you do NOT evaluate portrayals of media outlets or channels, other countries or their leadership, or portrayals of the tweet authors' own party.\n",
    "\n",
    "The following three aspects must be present together in a tweet:\n",
    "(1) A clear reference to the political out-group\n",
    "(2) Calling attention to one of the following moral vices in the out-group's actions or character. The dimensions do not have to be explicitly mentioned but serve as a guide to understand the different kinds of moral vices associated with different accusations.\n",
    "- harming others (both directly or indirectly, e.g., by failing to help or taking away their rights)\n",
    "- cheating on or exploiting other people\n",
    "- betraying or abandoning one’s in-group\n",
    "- disrespecting authority or tradition\n",
    "- damaging or contaminating the purity of sacred entities.\n",
    "(3) Attributing intentionality to the out-group’s vices. For example, the political out-group must be portrayed as intentionally harming others. Unintentional harm, for example, poor decision making, would not be sufficient to code this concept as present in the tweet.\n",
    "\n",
    "It is crucial that regular political criticism of the out-party is not included if there is no clear judgment as immoral, such as \n",
    "- Criticising the out-party's policy positions or decisions \n",
    "- Expressing a desire to change the leadership (e.g., by voting them out)\n",
    "\n",
    "Provide your response in JSON format, as follows:\n",
    "{\"tweet_id\":\"146\", \"immoral_outgroup\": \"1/0\", \"justification\": \"Provide a brief justification\n",
    "for your choice.\"} \n",
    "\"0\" represents “no portrayal as immoral” \n",
    "\"1\" represents “portrayal as immoral”.\n",
    "\n",
    "Example: \n",
    "Tweet: “tweet_ID 153: Time and time again, that party shows that they don’t care about treating their political opponents in a fair way – they think this is the only way they can win.”\n",
    "Response: \"tweet_id\":\"153\", \"immoral_outgroup\":\"1\", \"justification\": \"this tweet portrays the tweet author's political out-group as immoral because they are being unfair and ready to cheat or exploit others to win.\" \n",
    "\n",
    "Ensure NOT to skip any tweets and to seperate all JSON objects using \\n.\n",
    "\"\"\""
   ]
  },
  {
   "cell_type": "code",
   "execution_count": 79,
   "id": "46b8b486",
   "metadata": {},
   "outputs": [
    {
     "name": "stdout",
     "output_type": "stream",
     "text": [
      "Analyzing tweets: \n",
      "Analyzing tweets: \n",
      "Analyzing tweets: \n",
      "Analyzing tweets: \n"
     ]
    }
   ],
   "source": [
    "# request GPT API with right input\n",
    "biden_immoral_results = gpt_input(biden_txt, \"id_text\")"
   ]
  },
  {
   "cell_type": "code",
   "execution_count": 80,
   "id": "52a78e31",
   "metadata": {},
   "outputs": [],
   "source": [
    "# parse GPT output\n",
    "gpt_label_immoral_biden = parse_json(biden_immoral_results)"
   ]
  },
  {
   "cell_type": "markdown",
   "id": "86b88d2d",
   "metadata": {},
   "source": [
    "### Krippendorff's Alpha"
   ]
  },
  {
   "cell_type": "code",
   "execution_count": 83,
   "id": "e786b3c1",
   "metadata": {},
   "outputs": [],
   "source": [
    "# ensure gpt response is correct datatype\n",
    "gpt_label_immoral_biden['tweet_id'] = gpt_label_immoral_biden['tweet_id'].astype(str)\n",
    "\n",
    "# merge to obtain performance metrics and save data to examine disagreement\n",
    "immoral_biden_df = biden_df.merge(gpt_label_immoral_biden, on = \"tweet_id\")\n",
    "\n",
    "# rename immoral_outgroup to variable name \n",
    "immoral_biden_df = immoral_biden_df.rename(columns={\"immoral_outgroup\":\"V3_MORAL_WRONG_OUTGROUP_GPT\"})\n",
    "\n",
    "# save as .csv \n",
    "immoral_biden_df.to_csv(\"immoral_biden_gpt2.csv\")"
   ]
  },
  {
   "cell_type": "code",
   "execution_count": 85,
   "id": "b6883ec9",
   "metadata": {},
   "outputs": [],
   "source": [
    "# select variables to check agreement\n",
    "immoral_biden_kripp = immoral_biden_df[[\"tweet_id\",\"V3_MORAL_WRONG_OUTGROUP_E\", \"V3_MORAL_WRONG_OUTGROUP_C\", \"V3_MORAL_WRONG_OUTGROUP_M\", \"V3_MORAL_WRONG_OUTGROUP_GPT\"]]"
   ]
  },
  {
   "cell_type": "code",
   "execution_count": 86,
   "id": "5ad1061a",
   "metadata": {},
   "outputs": [
    {
     "name": "stderr",
     "output_type": "stream",
     "text": [
      "/var/folders/2w/bw2mbvzn6ns_37v4dn94xthm0000gn/T/ipykernel_5857/3751041998.py:2: SettingWithCopyWarning: \n",
      "A value is trying to be set on a copy of a slice from a DataFrame.\n",
      "Try using .loc[row_indexer,col_indexer] = value instead\n",
      "\n",
      "See the caveats in the documentation: https://pandas.pydata.org/pandas-docs/stable/user_guide/indexing.html#returning-a-view-versus-a-copy\n",
      "  immoral_biden_kripp['V3_MORAL_WRONG_OUTGROUP_GPT'] = pd.to_numeric(immoral_biden_kripp['V3_MORAL_WRONG_OUTGROUP_GPT'], errors='raise')\n"
     ]
    }
   ],
   "source": [
    "# convert gpt dtype to numeric\n",
    "immoral_biden_kripp['V3_MORAL_WRONG_OUTGROUP_GPT'] = pd.to_numeric(immoral_biden_kripp['V3_MORAL_WRONG_OUTGROUP_GPT'], errors='raise')"
   ]
  },
  {
   "cell_type": "code",
   "execution_count": 89,
   "id": "89f48bd6",
   "metadata": {},
   "outputs": [
    {
     "data": {
      "text/plain": [
       "0.7119943365695792"
      ]
     },
     "execution_count": 89,
     "metadata": {},
     "output_type": "execute_result"
    }
   ],
   "source": [
    "# make df longer to get coder ID in own column\n",
    "immoral_long_biden = pd.melt(immoral_biden_kripp,\n",
    "    id_vars=[\"tweet_id\"], \n",
    "                 var_name=\"CODER_ID\", \n",
    "                 value_name=\"MORAL_WRONG\")\n",
    "\n",
    "# calculate kAlpha\n",
    "simpledorff.calculate_krippendorffs_alpha_for_df(\n",
    "    immoral_long_biden,\n",
    "    experiment_col='tweet_id',\n",
    "    annotator_col='CODER_ID',\n",
    "    class_col='MORAL_WRONG')"
   ]
  },
  {
   "cell_type": "markdown",
   "id": "db630cb9",
   "metadata": {},
   "source": [
    "## (4) Overall Performance Metrics"
   ]
  },
  {
   "cell_type": "code",
   "execution_count": 91,
   "id": "273f98fc",
   "metadata": {},
   "outputs": [
    {
     "data": {
      "text/html": [
       "<div>\n",
       "<style scoped>\n",
       "    .dataframe tbody tr th:only-of-type {\n",
       "        vertical-align: middle;\n",
       "    }\n",
       "\n",
       "    .dataframe tbody tr th {\n",
       "        vertical-align: top;\n",
       "    }\n",
       "\n",
       "    .dataframe thead th {\n",
       "        text-align: right;\n",
       "    }\n",
       "</style>\n",
       "<table border=\"1\" class=\"dataframe\">\n",
       "  <thead>\n",
       "    <tr style=\"text-align: right;\">\n",
       "      <th></th>\n",
       "      <th>Unnamed: 0</th>\n",
       "      <th>tweet_id</th>\n",
       "      <th>id</th>\n",
       "      <th>V1_BOUNDARY_DRAWING_E</th>\n",
       "      <th>V2_DEROGATION_OUTGROUP_E</th>\n",
       "      <th>V3_MORAL_WRONG_OUTGROUP_E</th>\n",
       "      <th>V4_SENTIMENT_E</th>\n",
       "      <th>V1_BOUNDARY_DRAWING_C</th>\n",
       "      <th>V2_DEROGATION_OUTGROUP_C</th>\n",
       "      <th>V3_MORAL_WRONG_OUTGROUP_C</th>\n",
       "      <th>V4_SENTIMENT_C</th>\n",
       "      <th>Unnamed: 10</th>\n",
       "      <th>V1_BOUNDARY_DRAWING_M</th>\n",
       "      <th>V2_DEROGATION_OUTGROUP_M</th>\n",
       "      <th>V3_MORAL_WRONG_OUTGROUP_M</th>\n",
       "      <th>text</th>\n",
       "      <th>id_text</th>\n",
       "      <th>V3_MORAL_WRONG_OUTGROUP_GPT</th>\n",
       "      <th>justification</th>\n",
       "    </tr>\n",
       "  </thead>\n",
       "  <tbody>\n",
       "    <tr>\n",
       "      <th>0</th>\n",
       "      <td>0</td>\n",
       "      <td>1622</td>\n",
       "      <td>1280000000000000000</td>\n",
       "      <td>0.0</td>\n",
       "      <td>0.0</td>\n",
       "      <td>0.0</td>\n",
       "      <td>1.0</td>\n",
       "      <td>0.0</td>\n",
       "      <td>0.0</td>\n",
       "      <td>0.0</td>\n",
       "      <td>1.0</td>\n",
       "      <td>NaN</td>\n",
       "      <td>0.0</td>\n",
       "      <td>0.0</td>\n",
       "      <td>0.0</td>\n",
       "      <td>Together, we're going to build a new American ...</td>\n",
       "      <td>tweet_ID 1622: Together, we're going to build ...</td>\n",
       "      <td>0</td>\n",
       "      <td>This tweet does not reference any political ou...</td>\n",
       "    </tr>\n",
       "    <tr>\n",
       "      <th>1</th>\n",
       "      <td>1</td>\n",
       "      <td>2223</td>\n",
       "      <td>1310000000000000000</td>\n",
       "      <td>0.0</td>\n",
       "      <td>0.0</td>\n",
       "      <td>0.0</td>\n",
       "      <td>1.0</td>\n",
       "      <td>0.0</td>\n",
       "      <td>0.0</td>\n",
       "      <td>0.0</td>\n",
       "      <td>0.0</td>\n",
       "      <td>NaN</td>\n",
       "      <td>0.0</td>\n",
       "      <td>0.0</td>\n",
       "      <td>0.0</td>\n",
       "      <td>Wheels up, folks.</td>\n",
       "      <td>tweet_ID 2223: Wheels up, folks.</td>\n",
       "      <td>0</td>\n",
       "      <td>This tweet does not reference any political ou...</td>\n",
       "    </tr>\n",
       "  </tbody>\n",
       "</table>\n",
       "</div>"
      ],
      "text/plain": [
       "   Unnamed: 0  tweet_id                   id  V1_BOUNDARY_DRAWING_E  \\\n",
       "0           0      1622  1280000000000000000                    0.0   \n",
       "1           1      2223  1310000000000000000                    0.0   \n",
       "\n",
       "   V2_DEROGATION_OUTGROUP_E  V3_MORAL_WRONG_OUTGROUP_E  V4_SENTIMENT_E  \\\n",
       "0                       0.0                        0.0             1.0   \n",
       "1                       0.0                        0.0             1.0   \n",
       "\n",
       "   V1_BOUNDARY_DRAWING_C  V2_DEROGATION_OUTGROUP_C  V3_MORAL_WRONG_OUTGROUP_C  \\\n",
       "0                    0.0                       0.0                        0.0   \n",
       "1                    0.0                       0.0                        0.0   \n",
       "\n",
       "   V4_SENTIMENT_C  Unnamed: 10  V1_BOUNDARY_DRAWING_M  \\\n",
       "0             1.0          NaN                    0.0   \n",
       "1             0.0          NaN                    0.0   \n",
       "\n",
       "   V2_DEROGATION_OUTGROUP_M  V3_MORAL_WRONG_OUTGROUP_M  \\\n",
       "0                       0.0                        0.0   \n",
       "1                       0.0                        0.0   \n",
       "\n",
       "                                                text  \\\n",
       "0  Together, we're going to build a new American ...   \n",
       "1                                Wheels up, folks.     \n",
       "\n",
       "                                             id_text  \\\n",
       "0  tweet_ID 1622: Together, we're going to build ...   \n",
       "1                 tweet_ID 2223: Wheels up, folks.     \n",
       "\n",
       "   V3_MORAL_WRONG_OUTGROUP_GPT  \\\n",
       "0                            0   \n",
       "1                            0   \n",
       "\n",
       "                                       justification  \n",
       "0  This tweet does not reference any political ou...  \n",
       "1  This tweet does not reference any political ou...  "
      ]
     },
     "execution_count": 91,
     "metadata": {},
     "output_type": "execute_result"
    }
   ],
   "source": [
    "# Take both labelled dfs with the best performing prompts to get all performance metrics. \n",
    "biden_immoral = pd.read_csv(\"immoral_biden_gpt2.csv\")\n",
    "trump_immoral = pd.read_csv(\"immoral_trump_gpt2.csv\")\n",
    "\n",
    "# concatinate to one dataframe\n",
    "immoral = pd.concat([biden_immoral, trump_immoral], axis=0, ignore_index=True)\n",
    "\n",
    "immoral.head(2)"
   ]
  },
  {
   "cell_type": "code",
   "execution_count": 92,
   "id": "184cb42e",
   "metadata": {},
   "outputs": [
    {
     "name": "stdout",
     "output_type": "stream",
     "text": [
      "0.7335530833676692\n"
     ]
    }
   ],
   "source": [
    "# select variables for krippendorff's alpha\n",
    "immoral_k = immoral[[\"tweet_id\",\"V3_MORAL_WRONG_OUTGROUP_E\", \"V3_MORAL_WRONG_OUTGROUP_C\", \"V3_MORAL_WRONG_OUTGROUP_M\", \"V3_MORAL_WRONG_OUTGROUP_GPT\"]]\n",
    "\n",
    "# make longer \n",
    "immoral_k = pd.melt(immoral_k,\n",
    "    id_vars=[\"tweet_id\"], \n",
    "                 var_name=\"CODER_ID\", \n",
    "                 value_name=\"IMMORAL\")\n",
    "\n",
    "# calculate KAlpha\n",
    "immoral_kripp = simpledorff.calculate_krippendorffs_alpha_for_df(\n",
    "    immoral_k,experiment_col='tweet_id',\n",
    "    annotator_col='CODER_ID',\n",
    "    class_col='IMMORAL')\n",
    "\n",
    "print(immoral_kripp)\n"
   ]
  },
  {
   "cell_type": "code",
   "execution_count": 94,
   "id": "f3366222",
   "metadata": {},
   "outputs": [],
   "source": [
    "coder_labels = [\"V3_MORAL_WRONG_OUTGROUP_E\", \"V3_MORAL_WRONG_OUTGROUP_C\", \"V3_MORAL_WRONG_OUTGROUP_M\"]\n",
    "\n",
    "# Replace string inside the df that says \"nan\" with actual NaN (np.nan)\n",
    "immoral[coder_labels] = immoral[coder_labels].replace(\"nan\", pd.NA)\n",
    "\n",
    "# drop all nans \n",
    "immoral =immoral.dropna(subset=coder_labels)\n",
    "\n",
    "# select coders to calculate majority vote label\n",
    "immoral_MV = immoral[[\"V3_MORAL_WRONG_OUTGROUP_E\", \"V3_MORAL_WRONG_OUTGROUP_C\", \"V3_MORAL_WRONG_OUTGROUP_M\"]]"
   ]
  },
  {
   "cell_type": "code",
   "execution_count": 95,
   "id": "80ca6cc9",
   "metadata": {},
   "outputs": [
    {
     "name": "stderr",
     "output_type": "stream",
     "text": [
      "/var/folders/2w/bw2mbvzn6ns_37v4dn94xthm0000gn/T/ipykernel_5857/682104454.py:10: SettingWithCopyWarning: \n",
      "A value is trying to be set on a copy of a slice from a DataFrame.\n",
      "Try using .loc[row_indexer,col_indexer] = value instead\n",
      "\n",
      "See the caveats in the documentation: https://pandas.pydata.org/pandas-docs/stable/user_guide/indexing.html#returning-a-view-versus-a-copy\n",
      "  immoral_MV[\"V3_IMMORAL_MV\"] = immoral_MV.apply(majority_vote, axis=1)\n"
     ]
    }
   ],
   "source": [
    "# Function to calculate majority vote\n",
    "def majority_vote(row):\n",
    "    from collections import Counter\n",
    "    \n",
    "    # Use Counter to count the occurrences of each label in the row\n",
    "    vote_counts = Counter(row)\n",
    "    \n",
    "    # Return the label with the highest count (majority vote)\n",
    "    return vote_counts.most_common(1)[0][0]\n",
    "\n",
    "# Apply the function row-wise to calculate the majority label\n",
    "immoral_MV[\"V3_IMMORAL_MV\"] = immoral_MV.apply(majority_vote, axis=1)"
   ]
  },
  {
   "cell_type": "code",
   "execution_count": 96,
   "id": "35a430fe",
   "metadata": {},
   "outputs": [
    {
     "name": "stdout",
     "output_type": "stream",
     "text": [
      "Precision: 0.78\n",
      "Recall: 0.84\n",
      "F1 Score: 0.81\n",
      "Krippendorff's Alpha:  0.73\n"
     ]
    }
   ],
   "source": [
    "# calculate overall performance metrics \n",
    "import sklearn\n",
    "from sklearn.metrics import precision_score, recall_score, f1_score\n",
    "\n",
    "# Extract majority vote and gpt labels\n",
    "mv = immoral_MV[\"V3_IMMORAL_MV\"]\n",
    "gpt = immoral[\"V3_MORAL_WRONG_OUTGROUP_GPT\"]\n",
    "\n",
    "# Calculate Precision\n",
    "precision_immoral = precision_score(mv, gpt)\n",
    "\n",
    "# Calculate Recall\n",
    "recall_immoral = recall_score(mv, gpt)\n",
    "\n",
    "# Calculate F1 Score\n",
    "f1_immoral = f1_score(mv, gpt)\n",
    "\n",
    "print(f\"Precision: {precision_immoral:.2f}\")\n",
    "print(f\"Recall: {recall_immoral:.2f}\")\n",
    "print(f\"F1 Score: {f1_immoral:.2f}\")\n",
    "print(f\"Krippendorff's Alpha: {immoral_kripp: .2f}\")\n",
    "\n",
    "# Essentially: \n",
    "# it \"overfits\" and adds more labels but need to consider more if they make sense."
   ]
  }
 ],
 "metadata": {
  "kernelspec": {
   "display_name": "Python 3 (ipykernel)",
   "language": "python",
   "name": "python3"
  },
  "language_info": {
   "codemirror_mode": {
    "name": "ipython",
    "version": 3
   },
   "file_extension": ".py",
   "mimetype": "text/x-python",
   "name": "python",
   "nbconvert_exporter": "python",
   "pygments_lexer": "ipython3",
   "version": "3.11.1"
  }
 },
 "nbformat": 4,
 "nbformat_minor": 5
}
